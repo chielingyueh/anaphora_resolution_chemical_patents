{
 "cells": [
  {
   "cell_type": "markdown",
   "metadata": {},
   "source": [
    "# Install requirements"
   ]
  },
  {
   "cell_type": "code",
   "execution_count": null,
   "metadata": {
    "id": "Ok3sG1Od-t4Q",
    "scrolled": true
   },
   "outputs": [],
   "source": [
    "!pip install -r requirements.txt"
   ]
  },
  {
   "cell_type": "markdown",
   "metadata": {},
   "source": [
    "# BERT models used \n",
    "\n",
    "We experiment with the following Bert models:\n",
    "\n",
    "1. Bert-base: \"bert-base-uncased\" \n",
    "2. Bert-large: \"bert-large-uncased\"\n",
    "3. BioBert: \"dmis-lab/biobert-v1.1\"\n",
    "4. Clinical bert: \"emilyalsentzer/Bio_ClinicalBERT\"\n",
    "5. Pubmed bert: \"bionlp/bluebert_pubmed_uncased_L-24_H-1024_A-16\""
   ]
  },
  {
   "cell_type": "markdown",
   "metadata": {},
   "source": [
    "# k-fold CV\n",
    "\n",
    "We first have to create a k-fold CV split:"
   ]
  },
  {
   "cell_type": "code",
   "execution_count": null,
   "metadata": {},
   "outputs": [],
   "source": [
    "!python kfold.py --path_to_input_file \"./data/full_train.tsv\""
   ]
  },
  {
   "cell_type": "markdown",
   "metadata": {},
   "source": [
    "Running 5-fold CV:"
   ]
  },
  {
   "cell_type": "code",
   "execution_count": null,
   "metadata": {},
   "outputs": [],
   "source": [
    "!python main.py --do_train --do_eval --train_file 'train-0.tsv' --test_file 'val-0.tsv' --eval_dir \"./eval/fold_1\" --fold \"fold1\"\n",
    "!python main.py --do_train --do_eval --train_file 'train-1.tsv' --test_file 'val-1.tsv' --eval_dir \"./eval/fold_2\" --fold \"fold2\"\n",
    "!python main.py --do_train --do_eval --train_file 'train-2.tsv' --test_file 'val-2.tsv' --eval_dir \"./eval/fold_3\" --fold \"fold3\"\n",
    "!python main.py --do_train --do_eval --train_file 'train-3.tsv' --test_file 'val-3.tsv' --eval_dir \"./eval/fold_4\" --fold \"fold4\"\n",
    "!python main.py --do_train --do_eval --train_file 'train-4.tsv' --test_file 'val-4.tsv' --eval_dir \"./eval/fold_5\" --fold \"fold5\""
   ]
  },
  {
   "cell_type": "markdown",
   "metadata": {},
   "source": [
    "# Run test prediction"
   ]
  },
  {
   "cell_type": "markdown",
   "metadata": {},
   "source": [
    "First, answer keys files need to be made of the data:"
   ]
  },
  {
   "cell_type": "code",
   "execution_count": null,
   "metadata": {},
   "outputs": [],
   "source": [
    "!python answer_keys.py --path_to_input_file \"./data/full_train.tsv\" --output_file \"answer_keys_train.txt\"\n",
    "!python answer_keys.py --path_to_input_file \"./data/test.tsv\" --output_file \"answer_keys_test.txt\""
   ]
  },
  {
   "cell_type": "markdown",
   "metadata": {},
   "source": [
    "Run model for test predicition:"
   ]
  },
  {
   "cell_type": "code",
   "execution_count": null,
   "metadata": {},
   "outputs": [],
   "source": [
    "!python main.py --do_train --do_eval --train_file 'full_train.tsv' --test_file 'test.tsv' --eval_dir \"./eval/test\""
   ]
  }
 ],
 "metadata": {
  "accelerator": "GPU",
  "colab": {
   "authorship_tag": "ABX9TyPDon2x0L5B43tOiYLhD6dJ",
   "collapsed_sections": [],
   "name": "running-model.ipynb",
   "provenance": []
  },
  "kernelspec": {
   "display_name": "Python 3 (ipykernel)",
   "language": "python",
   "name": "python3"
  },
  "language_info": {
   "codemirror_mode": {
    "name": "ipython",
    "version": 3
   },
   "file_extension": ".py",
   "mimetype": "text/x-python",
   "name": "python",
   "nbconvert_exporter": "python",
   "pygments_lexer": "ipython3",
   "version": "3.8.8"
  }
 },
 "nbformat": 4,
 "nbformat_minor": 4
}
